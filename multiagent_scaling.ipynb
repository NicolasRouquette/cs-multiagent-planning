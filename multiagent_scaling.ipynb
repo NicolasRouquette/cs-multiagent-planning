{
 "cells": [
  {
   "attachments": {},
   "cell_type": "markdown",
   "id": "3b359025",
   "metadata": {},
   "source": [
    "# Trajectory planning for multi-agent systems"
   ]
  },
  {
   "attachments": {},
   "cell_type": "markdown",
   "id": "5cf987f5",
   "metadata": {},
   "source": [
    "This notebook contains a scalable version of the multi-agent navigation case study with a simplified layout.\n",
    "\n",
    "This case study uses _merging_ of _PolyhedralContractCompounds_ and model checking by calling _contains_behavior_ for each possible next position.\n",
    "\n",
    "Some info on the number of operations:\n",
    "\n",
    "This happens once at the start:\n",
    "\n",
    "1. Swapping contract and collision contract -> merged\n",
    "\n",
    "This happens for each timestep:\n",
    "\n",
    "2. Each robot has a dynamics contract, they are merged by adding one at a time\n",
    "3. The resuting dynamics contract is merged again with the contract from 1.\n",
    "4. Then each possible next position (combination of all robots' positions) is checked using the contains_behavior function (I expect this to be the cause for the long run time as the number of possible next positions explodes when adding another robot - I would suggest sticking with 1 or 2 robots and increasing the length of the corridor $l_{corridor}$)."
   ]
  },
  {
   "cell_type": "code",
   "execution_count": 1,
   "id": "eb50b037",
   "metadata": {},
   "outputs": [],
   "source": [
    "%matplotlib inline\n",
    "import numpy as np\n",
    "from utils.multiagent_utils import (\n",
    "    Coord,\n",
    "    Robot,\n",
    "    distance,\n",
    "    get_collision_contract,\n",
    "    get_swapping_contract,\n",
    "    strategy_multiple_simple,\n",
    "    find_move_candidates_general,\n",
    "    find_move_candidates_general_par\n",
    ")\n",
    "from utils.plotting_utils import plot_grid_world\n",
    "from pacti_counters import PactiInstrumentationData, PactiInstrumentationSummary, summarize_instrumentation_data\n",
    "from pacti.iocontract import Var\n",
    "from pacti.terms.polyhedra import PolyhedralContractCompound"
   ]
  },
  {
   "attachments": {},
   "cell_type": "markdown",
   "id": "5b4d753e",
   "metadata": {},
   "source": [
    "### Create gridworld and robots"
   ]
  },
  {
   "attachments": {},
   "cell_type": "markdown",
   "id": "104e7504",
   "metadata": {},
   "source": [
    "We will set up the grid world such that all robots start in the same lane as their respective goal such that the grid world is set up as a corridor, with the scaling parameters the number of robots $n_{robots}$ and the corridor length $l_{corridor}$.\n",
    "\n",
    "To visualize the setup:"
   ]
  },
  {
   "cell_type": "code",
   "execution_count": 2,
   "id": "e93e21a9",
   "metadata": {},
   "outputs": [
    {
     "data": {
      "image/png": "[encoded data removed]",
      "text/plain": [
       "<Figure size 640x480 with 1 Axes>"
      ]
     },
     "metadata": {},
     "output_type": "display_data"
    }
   ],
   "source": [
    "# Define the grid world dimensions\n",
    "n_robots = 5\n",
    "l_corridor = 3\n",
    "\n",
    "# Initialize the robots\n",
    "robots = []\n",
    "for i in range(n_robots):\n",
    "    robots.append(Robot(\"r\"+str(i), (0, i), (l_corridor-1, i)))\n",
    "\n",
    "plot_grid_world(l_corridor, n_robots, robots)"
   ]
  },
  {
   "attachments": {},
   "cell_type": "markdown",
   "id": "2bc27790",
   "metadata": {},
   "source": [
    "### Define dynamics contracts for each robot per timestep\n",
    "The contracts are explained in detail in the multiagent.ipynb notebook."
   ]
  },
  {
   "cell_type": "code",
   "execution_count": 3,
   "id": "8c4afdae",
   "metadata": {},
   "outputs": [],
   "source": [
    "def get_dynamics_contract_robot(name: str, init_pos: Coord, timestep: int, grid_n: int, grid_m: int\n",
    ") -> PolyhedralContractCompound:  # noqa: WPS210\n",
    "    \"\"\"\n",
    "    Function to set up the contract encoding the dynamics for a single robot for the next timestep.\n",
    "\n",
    "    Args:\n",
    "        name: name of the robot\n",
    "        init_pos: current coordinates of the robot\n",
    "        timestep: current timestep\n",
    "\n",
    "    Returns:\n",
    "        Resulting contract compound that encodes the dynamics for the robot.\n",
    "    \"\"\"\n",
    "    x_str_0 = 'x_{0}_0'.format(name)\n",
    "    y_str_0 = 'y_{0}_0'.format(name)\n",
    "    x_str_1 = 'x_{0}_1'.format(name)\n",
    "    y_str_1 = 'y_{0}_1'.format(name)\n",
    "    t_0 = 't_0'\n",
    "    t_1 = 't_1'\n",
    "\n",
    "    contract = PolyhedralContractCompound.from_string(\n",
    "        input_vars=[x_str_0, y_str_0, t_0],\n",
    "        output_vars=[x_str_1, y_str_1, t_1],\n",
    "        assumptions=[\n",
    "            [\n",
    "                \"{0} = {1}\".format(x_str_0, init_pos.x),\n",
    "                \"{0} = {1}\".format(y_str_0, init_pos.y),\n",
    "                \"{0} = {1}\".format(t_0, timestep),\n",
    "            ]\n",
    "        ],\n",
    "        guarantees=[\n",
    "            [\n",
    "                \"{0} - {1} = 1\".format(t_1, t_0),\n",
    "                \"{0} - {1} + {2} - {3} <= 1\".format(x_str_1, x_str_0, y_str_1, y_str_0),\n",
    "                \"{0} - {1} - {2} + {3} <= 1\".format(x_str_1, x_str_0, y_str_1, y_str_0),\n",
    "                \"-{0} + {1} + {2} - {3} <= 1\".format(x_str_1, x_str_0, y_str_1, y_str_0),\n",
    "                \"-{0} + {1} - {2} + {3} <= 1\".format(x_str_1, x_str_0, y_str_1, y_str_0),\n",
    "                \"{0} <= {1}\".format(x_str_1, grid_n - 1),\n",
    "                \"{0} <= {1}\".format(y_str_1, grid_m - 1),\n",
    "                \"-{0} <= 0\".format(x_str_1),\n",
    "                \"-{0} <= 0\".format(y_str_1),\n",
    "            ]\n",
    "        ],\n",
    "    )\n",
    "    return contract"
   ]
  },
  {
   "attachments": {},
   "cell_type": "markdown",
   "id": "959e8914",
   "metadata": {},
   "source": [
    "### Extension to N robots and a grid length of L"
   ]
  },
  {
   "cell_type": "code",
   "execution_count": 4,
   "id": "aa094d1a",
   "metadata": {},
   "outputs": [
    {
     "name": "stdout",
     "output_type": "stream",
     "text": [
      "Running on AMD Ryzen Threadripper PRO 3955WX 16-Cores @ 3.8927 GHz with up to 32 threads.\n"
     ]
    }
   ],
   "source": [
    "# Show info about the hardware we're using.\n",
    "from cpuinfo import get_cpu_info\n",
    "cpu_info = get_cpu_info()\n",
    "cpu_info_message = f\"{cpu_info['brand_raw']} @ {cpu_info['hz_advertised_friendly']} with up to {cpu_info['count']} threads.\"\n",
    "print(f\"Running on {cpu_info_message}\")"
   ]
  },
  {
   "attachments": {},
   "cell_type": "markdown",
   "metadata": {},
   "source": [
    "\n",
    "Choose the number of robots in $n_{robots}$ and the grid length in $l_{corridor}$. The maximum number of timesteps is set to be 3 times the grid length (as upper bound). The robots will be placed as shown in the visualization above. The function below does not produce any animation or save the trace of the simulation."
   ]
  },
  {
   "cell_type": "code",
   "execution_count": 5,
   "id": "f82c9beb",
   "metadata": {},
   "outputs": [
    {
     "data": {
      "image/png": "[encoded data removed]",
      "text/plain": [
       "<Figure size 640x480 with 1 Axes>"
      ]
     },
     "metadata": {},
     "output_type": "display_data"
    },
    {
     "name": "stdout",
     "output_type": "stream",
     "text": [
      "Evaluating 24 next_possible_positions...\n"
     ]
    },
    {
     "data": {
      "application/vnd.jupyter.widget-view+json": {
       "model_id": "f578cdf25a1e4847ba67d0b331269b4f",
       "version_major": 2,
       "version_minor": 0
      },
      "text/plain": [
       "Image(value=b'\\x89PNG\\r\\n\\x1a\\n\\x00\\x00\\x00\\rIHDR\\x00\\x00\\x03 \\x00\\x00\\x01\\x90\\x08\\x06\\x00\\x00\\x00V%\\x044\\x00\\…"
      ]
     },
     "metadata": {},
     "output_type": "display_data"
    },
    {
     "data": {
      "application/vnd.jupyter.widget-view+json": {
       "model_id": "63cb210ca8064ba1b16ec95be16b77c8",
       "version_major": 2,
       "version_minor": 0
      },
      "text/plain": [
       "Output()"
      ]
     },
     "metadata": {},
     "output_type": "display_data"
    },
    {
     "data": {
      "application/vnd.jupyter.widget-view+json": {
       "model_id": "f4460b43b22145439ce8b0d103a7e7da",
       "version_major": 2,
       "version_minor": 0
      },
      "text/plain": [
       "VBox(children=(Output(), Output()))"
      ]
     },
     "metadata": {},
     "output_type": "display_data"
    },
    {
     "data": {
      "image/png": "[encoded data removed]",
      "text/plain": [
       "<IPython.core.display.Image object>"
      ]
     },
     "metadata": {},
     "output_type": "display_data"
    },
    {
     "data": {
      "application/vnd.jupyter.widget-view+json": {
       "model_id": "8efacd1585434db185f6b8539d17f460",
       "version_major": 2,
       "version_minor": 0
      },
      "text/plain": [
       "Output()"
      ]
     },
     "metadata": {},
     "output_type": "display_data"
    },
    {
     "name": "stdout",
     "output_type": "stream",
     "text": [
      "Found 10 possible_sol out of 24 next_possible_positions in 0.46 seconds.\n",
      "Pacti compose,quotient,merge statistics:\n",
      "no compose operations\n",
      "no quotient operations\n",
      "no merge operations\n",
      "Pacti PolyhedralTermList statistics:\n",
      "contains_behavior invocation counts: (min: 2, max: 5, avg: 3.875, total: 93)\n",
      "min/max contains_behavior contract size: (terms: 7, variables: 4)/(terms: 12, variables: 10)\n",
      "Pacti PolyhedralCompoundContract statistics:\n",
      "compound_merge invocation counts: (min: 3, max: 3, avg: 3.0, total: 72)\n",
      "min/max compound_merge contract size: (constraints: 2, variables: 3)/(constraints: 5, variables: 11)\n",
      "\n",
      "[(1, 0), (1, 1)]\n",
      "Taking move: [(0, 1), (1, 2)]\n",
      "Evaluating 36 next_possible_positions...\n"
     ]
    },
    {
     "data": {
      "application/vnd.jupyter.widget-view+json": {
       "model_id": "5b2abd054cd947e0bd2e993d5cdadc7d",
       "version_major": 2,
       "version_minor": 0
      },
      "text/plain": [
       "Image(value=b'\\x89PNG\\r\\n\\x1a\\n\\x00\\x00\\x00\\rIHDR\\x00\\x00\\x03 \\x00\\x00\\x01\\x90\\x08\\x06\\x00\\x00\\x00V%\\x044\\x00\\…"
      ]
     },
     "metadata": {},
     "output_type": "display_data"
    },
    {
     "data": {
      "application/vnd.jupyter.widget-view+json": {
       "model_id": "eb8fab4ab3b44ee5937ccee47d01deb5",
       "version_major": 2,
       "version_minor": 0
      },
      "text/plain": [
       "Output()"
      ]
     },
     "metadata": {},
     "output_type": "display_data"
    },
    {
     "data": {
      "application/vnd.jupyter.widget-view+json": {
       "model_id": "019677dcca134be5b22cbb9f7bd425ed",
       "version_major": 2,
       "version_minor": 0
      },
      "text/plain": [
       "VBox(children=(Output(), Output()))"
      ]
     },
     "metadata": {},
     "output_type": "display_data"
    },
    {
     "data": {
      "image/png": "[encoded data removed]",
      "text/plain": [
       "<IPython.core.display.Image object>"
      ]
     },
     "metadata": {},
     "output_type": "display_data"
    },
    {
     "data": {
      "application/vnd.jupyter.widget-view+json": {
       "model_id": "113aec86b8734e0486b0a936094c513d",
       "version_major": 2,
       "version_minor": 0
      },
      "text/plain": [
       "Output()"
      ]
     },
     "metadata": {},
     "output_type": "display_data"
    },
    {
     "name": "stdout",
     "output_type": "stream",
     "text": [
      "Found 14 possible_sol out of 36 next_possible_positions in 0.35 seconds.\n",
      "Pacti compose,quotient,merge statistics:\n",
      "no compose operations\n",
      "no quotient operations\n",
      "no merge operations\n",
      "Pacti PolyhedralTermList statistics:\n",
      "contains_behavior invocation counts: (min: 2, max: 10, avg: 4.416666666666667, total: 159)\n",
      "min/max contains_behavior contract size: (terms: 7, variables: 4)/(terms: 12, variables: 10)\n",
      "Pacti PolyhedralCompoundContract statistics:\n",
      "compound_merge invocation counts: (min: 5, max: 5, avg: 5.0, total: 180)\n",
      "min/max compound_merge contract size: (constraints: 2, variables: 3)/(constraints: 5, variables: 11)\n",
      "\n",
      "[(1, 0), (1, 1)]\n",
      "Taking move: [(0, 0), (1, 1)]\n",
      "Evaluating 36 next_possible_positions...\n"
     ]
    },
    {
     "data": {
      "application/vnd.jupyter.widget-view+json": {
       "model_id": "47110843d7e9445b960946c2aab3ab46",
       "version_major": 2,
       "version_minor": 0
      },
      "text/plain": [
       "Image(value=b'\\x89PNG\\r\\n\\x1a\\n\\x00\\x00\\x00\\rIHDR\\x00\\x00\\x03 \\x00\\x00\\x01\\x90\\x08\\x06\\x00\\x00\\x00V%\\x044\\x00\\…"
      ]
     },
     "metadata": {},
     "output_type": "display_data"
    },
    {
     "data": {
      "application/vnd.jupyter.widget-view+json": {
       "model_id": "33ec13d21e494365a81a92226e9bd872",
       "version_major": 2,
       "version_minor": 0
      },
      "text/plain": [
       "Output()"
      ]
     },
     "metadata": {},
     "output_type": "display_data"
    },
    {
     "data": {
      "application/vnd.jupyter.widget-view+json": {
       "model_id": "a3399e97b8264ce5ac0df660e8bae5cd",
       "version_major": 2,
       "version_minor": 0
      },
      "text/plain": [
       "VBox(children=(Output(), Output()))"
      ]
     },
     "metadata": {},
     "output_type": "display_data"
    },
    {
     "data": {
      "image/png": "[encoded data removed]",
      "text/plain": [
       "<IPython.core.display.Image object>"
      ]
     },
     "metadata": {},
     "output_type": "display_data"
    },
    {
     "data": {
      "application/vnd.jupyter.widget-view+json": {
       "model_id": "621e0e06f58140e897f81f7622818f4e",
       "version_major": 2,
       "version_minor": 0
      },
      "text/plain": [
       "Output()"
      ]
     },
     "metadata": {},
     "output_type": "display_data"
    },
    {
     "name": "stdout",
     "output_type": "stream",
     "text": [
      "Found 20 possible_sol out of 36 next_possible_positions in 0.35 seconds.\n",
      "Pacti compose,quotient,merge statistics:\n",
      "no compose operations\n",
      "no quotient operations\n",
      "no merge operations\n",
      "Pacti PolyhedralTermList statistics:\n",
      "contains_behavior invocation counts: (min: 2, max: 10, avg: 3.9166666666666665, total: 141)\n",
      "min/max contains_behavior contract size: (terms: 7, variables: 4)/(terms: 12, variables: 10)\n",
      "Pacti PolyhedralCompoundContract statistics:\n",
      "compound_merge invocation counts: (min: 7, max: 7, avg: 7.0, total: 252)\n",
      "min/max compound_merge contract size: (constraints: 2, variables: 3)/(constraints: 5, variables: 11)\n",
      "\n",
      "[(1, 0), (1, 1)]\n",
      "Taking move: [(0, 1), (0, 2)]\n",
      "Evaluating 24 next_possible_positions...\n"
     ]
    },
    {
     "data": {
      "application/vnd.jupyter.widget-view+json": {
       "model_id": "99c357017bf04d9896f76bacf286009b",
       "version_major": 2,
       "version_minor": 0
      },
      "text/plain": [
       "Image(value=b'\\x89PNG\\r\\n\\x1a\\n\\x00\\x00\\x00\\rIHDR\\x00\\x00\\x03 \\x00\\x00\\x01\\x90\\x08\\x06\\x00\\x00\\x00V%\\x044\\x00\\…"
      ]
     },
     "metadata": {},
     "output_type": "display_data"
    },
    {
     "data": {
      "application/vnd.jupyter.widget-view+json": {
       "model_id": "d3e78c8dd84848018aaecd7da9d20d31",
       "version_major": 2,
       "version_minor": 0
      },
      "text/plain": [
       "Output()"
      ]
     },
     "metadata": {},
     "output_type": "display_data"
    },
    {
     "data": {
      "application/vnd.jupyter.widget-view+json": {
       "model_id": "e8ec2c3ffaaa433fb46c8d7d7089b409",
       "version_major": 2,
       "version_minor": 0
      },
      "text/plain": [
       "VBox(children=(Output(), Output()))"
      ]
     },
     "metadata": {},
     "output_type": "display_data"
    },
    {
     "data": {
      "image/png": "[encoded data removed]",
      "text/plain": [
       "<IPython.core.display.Image object>"
      ]
     },
     "metadata": {},
     "output_type": "display_data"
    },
    {
     "data": {
      "application/vnd.jupyter.widget-view+json": {
       "model_id": "b87b6544329f426fa0a79d54abb2fea2",
       "version_major": 2,
       "version_minor": 0
      },
      "text/plain": [
       "Output()"
      ]
     },
     "metadata": {},
     "output_type": "display_data"
    },
    {
     "name": "stdout",
     "output_type": "stream",
     "text": [
      "Found 8 possible_sol out of 24 next_possible_positions in 0.34 seconds.\n",
      "Pacti compose,quotient,merge statistics:\n",
      "no compose operations\n",
      "no quotient operations\n",
      "no merge operations\n",
      "Pacti PolyhedralTermList statistics:\n",
      "contains_behavior invocation counts: (min: 2, max: 15, avg: 4.958333333333333, total: 119)\n",
      "min/max contains_behavior contract size: (terms: 7, variables: 4)/(terms: 12, variables: 10)\n",
      "Pacti PolyhedralCompoundContract statistics:\n",
      "compound_merge invocation counts: (min: 9, max: 9, avg: 9.0, total: 216)\n",
      "min/max compound_merge contract size: (constraints: 2, variables: 3)/(constraints: 5, variables: 11)\n",
      "\n",
      "[(1, 0), (1, 1)]\n",
      "Taking move: [(0, 0), (1, 1)]\n",
      "Evaluating 36 next_possible_positions...\n"
     ]
    },
    {
     "data": {
      "application/vnd.jupyter.widget-view+json": {
       "model_id": "bd93214583094839ad11d8c11a042c24",
       "version_major": 2,
       "version_minor": 0
      },
      "text/plain": [
       "Image(value=b'\\x89PNG\\r\\n\\x1a\\n\\x00\\x00\\x00\\rIHDR\\x00\\x00\\x03 \\x00\\x00\\x01\\x90\\x08\\x06\\x00\\x00\\x00V%\\x044\\x00\\…"
      ]
     },
     "metadata": {},
     "output_type": "display_data"
    },
    {
     "data": {
      "application/vnd.jupyter.widget-view+json": {
       "model_id": "4083b410464141dab2d040b8fdb841c4",
       "version_major": 2,
       "version_minor": 0
      },
      "text/plain": [
       "Output()"
      ]
     },
     "metadata": {},
     "output_type": "display_data"
    },
    {
     "data": {
      "application/vnd.jupyter.widget-view+json": {
       "model_id": "c64ec05b3add45058511e7a8ecdffc44",
       "version_major": 2,
       "version_minor": 0
      },
      "text/plain": [
       "VBox(children=(Output(), Output()))"
      ]
     },
     "metadata": {},
     "output_type": "display_data"
    },
    {
     "data": {
      "image/png": "[encoded data removed]",
      "text/plain": [
       "<IPython.core.display.Image object>"
      ]
     },
     "metadata": {},
     "output_type": "display_data"
    },
    {
     "data": {
      "application/vnd.jupyter.widget-view+json": {
       "model_id": "11367b7a4c8b4384971d781107728325",
       "version_major": 2,
       "version_minor": 0
      },
      "text/plain": [
       "Output()"
      ]
     },
     "metadata": {},
     "output_type": "display_data"
    },
    {
     "name": "stdout",
     "output_type": "stream",
     "text": [
      "Found 20 possible_sol out of 36 next_possible_positions in 0.35 seconds.\n",
      "Pacti compose,quotient,merge statistics:\n",
      "no compose operations\n",
      "no quotient operations\n",
      "no merge operations\n",
      "Pacti PolyhedralTermList statistics:\n",
      "contains_behavior invocation counts: (min: 2, max: 10, avg: 3.75, total: 135)\n",
      "min/max contains_behavior contract size: (terms: 7, variables: 4)/(terms: 12, variables: 10)\n",
      "Pacti PolyhedralCompoundContract statistics:\n",
      "compound_merge invocation counts: (min: 11, max: 11, avg: 11.0, total: 396)\n",
      "min/max compound_merge contract size: (constraints: 2, variables: 3)/(constraints: 5, variables: 11)\n",
      "\n",
      "[(1, 0), (1, 1)]\n",
      "Taking move: [(1, 0), (1, 1)]\n",
      "All robots reached their goal.\n",
      "*** After sim stats:\n",
      "Pacti compose,quotient,merge statistics:\n",
      "no compose operations\n",
      "no quotient operations\n",
      "no merge operations\n",
      "Pacti PolyhedralTermList statistics:\n",
      "contains_behavior invocation counts: (min: 0, max: 15, avg: 4.001302083333333, total: 647)\n",
      "min/max contains_behavior contract size: (terms: 7, variables: 4)/(terms: 12, variables: 10)\n",
      "Pacti PolyhedralCompoundContract statistics:\n",
      "compound_merge invocation counts: (min: 0, max: 11, avg: 9.03125, total: 1116)\n",
      "min/max compound_merge contract size: (constraints: 2, variables: 3)/(constraints: 5, variables: 11)\n",
      "\n",
      "*** extra stats:\n",
      "Pacti compose,quotient,merge statistics:\n",
      "no compose operations\n",
      "no quotient operations\n",
      "no merge operations\n",
      "Pacti PolyhedralTermList statistics:\n",
      "no contains_behavior operations\n",
      "Pacti PolyhedralCompoundContract statistics:\n",
      "compound_merge invocation counts: (min: 11, max: 11, avg: 11.0, total: 11)\n",
      "min/max compound_merge contract size: (constraints: 2, variables: 3)/(constraints: 5, variables: 11)\n",
      "\n",
      "*** Final stats:\n",
      "Pacti compose,quotient,merge statistics:\n",
      "no compose operations\n",
      "no quotient operations\n",
      "no merge operations\n",
      "Pacti PolyhedralTermList statistics:\n",
      "contains_behavior invocation counts: (min: 0, max: 15, avg: 2.0006510416666665, total: 647)\n",
      "min/max contains_behavior contract size: (terms: 7, variables: 4)/(terms: 12, variables: 10)\n",
      "Pacti PolyhedralCompoundContract statistics:\n",
      "compound_merge invocation counts: (min: 0, max: 11, avg: 10.015625, total: 1127)\n",
      "min/max compound_merge contract size: (constraints: 2, variables: 3)/(constraints: 5, variables: 11)\n",
      "\n"
     ]
    }
   ],
   "source": [
    "def run_sim(n_robots,l_corridor) -> PactiInstrumentationSummary:\n",
    "\n",
    "    totals = PactiInstrumentationSummary()\n",
    "\n",
    "    grid_n = l_corridor\n",
    "    grid_m = n_robots\n",
    "\n",
    "    # Initialize the robots\n",
    "    robots = []\n",
    "    for i in range(n_robots):\n",
    "        robots.append(Robot(\"r\"+str(i), (0, i), (l_corridor-1, i)))\n",
    "\n",
    "    plot_grid_world(l_corridor, n_robots, robots)\n",
    "\n",
    "    num_iter = l_corridor * 3 # estimated maximum time steps that it might take\n",
    "\n",
    "    # Get the contracts ensuring no conflicts\n",
    "    if n_robots > 1:\n",
    "        c_collision = get_collision_contract(robots)\n",
    "        c_swapping = get_swapping_contract(robots)\n",
    "        c_no_conflicts = c_collision.merge(c_swapping)\n",
    "\n",
    "    t_0 = 0\n",
    "\n",
    "    for _j in range(0, num_iter):  # noqa: WPS122\n",
    "\n",
    "        # merge the dynamics contracts\n",
    "\n",
    "        dynamics_contract = get_dynamics_contract_robot(robots[0].name, robots[0].pos, t_0, grid_n, grid_m)\n",
    "        for robot in robots[1:]:\n",
    "            contract = get_dynamics_contract_robot(robot.name, robot.pos, t_0, grid_n, grid_m)\n",
    "            dynamics_contract.merge(contract)\n",
    "\n",
    "        # merge dynamics with the no conflict contracts\n",
    "        if n_robots > 1:\n",
    "            multiagent_contract = dynamics_contract.merge(c_no_conflicts)\n",
    "        else:\n",
    "            multiagent_contract = dynamics_contract\n",
    "\n",
    "        stats, moves_list, _ = find_move_candidates_general_par(grid_n, grid_m, robots, t_0, multiagent_contract)\n",
    "        totals = totals + stats\n",
    "        # moves_list, _ = find_move_candidates_general(grid_n, grid_m, robots, t_0, multiagent_contract)\n",
    "\n",
    "        goals = [robot.goal for robot in robots]\n",
    "        print([(goal.x, goal.y) for goal in goals])\n",
    "\n",
    "        move = strategy_multiple_simple(moves_list, goals)\n",
    "        print('Taking move: {}'.format(move))\n",
    "\n",
    "        for i,robot in enumerate(robots):\n",
    "            robot.move(move[i])\n",
    "\n",
    "        if distance([[robot.pos.x, robot.pos.y] for robot in robots], [robot.goal for robot in robots]) == 0:\n",
    "            print('All robots reached their goal.')\n",
    "            break\n",
    "\n",
    "    return totals\n",
    "\n",
    "# Define the number of robots and grid size\n",
    "n_robots = 3\n",
    "l_corridor = 8\n",
    "\n",
    "# Intialize instrumentation for operations performed outside of parallel invocations\n",
    "data = PactiInstrumentationData()\n",
    "\n",
    "# Collect statistics over all parallel invocations\n",
    "stats0 = run_sim(n_robots,l_corridor)\n",
    "\n",
    "# Update instrumentation data for operations performed outside of parallel invocations\n",
    "data = data.update_counts()\n",
    "# Collect statistics for operations performed outside of parallel invocations\n",
    "stats1 = summarize_instrumentation_data([data])\n",
    "\n",
    "# Combine the statistics of all operation invocations (parallel or not)\n",
    "stats2 = stats0 + stats1\n",
    "print(f\"*** Final stats:\\n{stats2.stats()}\")"
   ]
  }
 ],
 "metadata": {
  "kernelspec": {
   "display_name": "Python 3 (ipykernel)",
   "language": "python",
   "name": "python3"
  },
  "language_info": {
   "codemirror_mode": {
    "name": "ipython",
    "version": 3
   },
   "file_extension": ".py",
   "mimetype": "text/x-python",
   "name": "python",
   "nbconvert_exporter": "python",
   "pygments_lexer": "ipython3",
   "version": "3.11.2"
  },
  "vscode": {
   "interpreter": {
    "hash": "b282b3e35ff361393169c4f355db145ffcb63e574f57c9818c827b7c99ca9fc3"
   }
  }
 },
 "nbformat": 4,
 "nbformat_minor": 5
}
